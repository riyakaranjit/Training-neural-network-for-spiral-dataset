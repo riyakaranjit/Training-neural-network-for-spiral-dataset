{
 "cells": [
  {
   "cell_type": "code",
   "execution_count": null,
   "metadata": {
    "colab": {
     "base_uri": "https://localhost:8080/",
     "height": 819
    },
    "id": "L1DkZhw1cnVJ",
    "outputId": "9c22b0db-a088-4f90-e293-94a82e25958e"
   },
   "outputs": [
    {
     "name": "stdout",
     "output_type": "stream",
     "text": [
      "X:\n",
      " [[ 0.          0.        ]\n",
      " [ 0.06625287  0.08919774]\n",
      " [ 0.16684926  0.14677889]\n",
      " [ 0.31483862  0.10948862]\n",
      " [ 0.43818925 -0.07430372]\n",
      " [ 0.48655579 -0.26815189]\n",
      " [ 0.37255573 -0.55285321]\n",
      " [ 0.0813637  -0.77351032]\n",
      " [-0.43144644 -0.77715985]\n",
      " [-0.6636581  -0.74803604]\n",
      " [-0.         -0.        ]\n",
      " [-0.11106351 -0.00325206]\n",
      " [-0.21855156  0.04022351]\n",
      " [-0.28067082  0.17981936]\n",
      " [-0.2251272   0.38320831]\n",
      " [-0.02119135  0.55515124]\n",
      " [ 0.39661513  0.53585528]\n",
      " [ 0.61738276  0.47305052]\n",
      " [ 0.8022482   0.38278098]\n",
      " [ 0.99981376  0.01929896]\n",
      " [ 0.          0.        ]\n",
      " [ 0.07750853 -0.07961223]\n",
      " [ 0.13664754 -0.17524316]\n",
      " [-0.06608519 -0.32671679]\n",
      " [-0.25702254 -0.36258831]\n",
      " [-0.4613563  -0.30950337]\n",
      " [-0.66329385 -0.06697547]\n",
      " [-0.77736881  0.02521918]\n",
      " [-0.6422478   0.6145252 ]\n",
      " [-0.58245155  0.81286542]]\n",
      "y:\n",
      " [0 0 0 0 0 0 0 0 0 0 1 1 1 1 1 1 1 1 1 1 2 2 2 2 2 2 2 2 2 2]\n"
     ]
    },
    {
     "data": {
      "image/png": "[encoded data removed]",
      "text/plain": [
       "<Figure size 432x288 with 1 Axes>"
      ]
     },
     "metadata": {
      "needs_background": "light",
      "tags": []
     },
     "output_type": "display_data"
    }
   ],
   "source": [
    "\"\"\"Complete implementation of spiral data-set in 2-dimension. Classification of \n",
    "N-number of data-set into 3 class[r,g,y]. We here code a no hidden layer neural \n",
    "network using the softmax linear classifier. Here, the training accuracy 28% is for \n",
    "performing the gradient descent once. When we iterate over many gradient descent\n",
    "we get higher accuracy like 49%-55% in colab file \"Putting all together for softmax \n",
    "classifier\".\n",
    "\"\"\"\n",
    "import numpy as np\n",
    "import matplotlib.pyplot as plt\n",
    "N=10 #number of data-points for each class\n",
    "D=2 #Dimensionality\n",
    "K=3 #number of class [r,b,y]\n",
    "X=np.zeros((N*K,D)) #[300,2]Every data-points(N*K) is converted into D-dimension i.e 2-D \n",
    "y=np.zeros((N*K),dtype='uint8') #[300]label or assigning class to every data-point\n",
    "\n",
    "#1 Genrating the spiral data-set for 3 classes\n",
    "for j in range(K):        #Looping over the 3 classes\n",
    "  ix= range(N*j,N*(j+1))  #Dividing the dataset as (0,100) (100,200) (200,300)\n",
    "  r=np.linspace(0.0,1,N)  #Assigning the radius for every N data-points\n",
    "  t_0=np.random.randn(N)*0.2 #Theta value I don't know why multiplied by 0.2\n",
    "  t=np.linspace(j*4,(j+1)*4,N)+ t_0 #linspace divides (start to end)number n times\n",
    "  \"\"\"t_1=r*np.sin(t)                #Here (0 to 4) is divided 100 times\n",
    "  t_2=r*np.cos(t)\n",
    "  print(t_1)\n",
    "  print(t_2)\"\"\"\n",
    "  X[ix] = np.c_[r*np.sin(t), r*np.cos(t)]\n",
    "  y[ix] = j   #1-D array where all the data-points are assigned with their correct class\n",
    "              #Here,the data-points from(0,100) is assigned as 0,(100,200) as 1 and(200,300) as 2\n",
    "print(\"X:\\n\",X)\n",
    "print(\"y:\\n\",y)\n",
    "# lets visualize the data:\n",
    "plt.scatter(X[:, 0], X[:, 1], c =y, s=40, cmap=plt.cm.Spectral) #[:,0]=[1st_row:last_row,column_0] or values in column 0 from all rows\n",
    "\n",
    "plt.show()"
   ]
  },
  {
   "cell_type": "code",
   "execution_count": null,
   "metadata": {
    "colab": {
     "base_uri": "https://localhost:8080/",
     "height": 34
    },
    "id": "JrpnJlV9aAsZ",
    "outputId": "0238495e-b47a-447c-d910-2912624f7f05"
   },
   "outputs": [
    {
     "name": "stdout",
     "output_type": "stream",
     "text": [
      "-0.7773688084618031\n"
     ]
    }
   ],
   "source": [
    "print(X[:,0].min())"
   ]
  },
  {
   "cell_type": "code",
   "execution_count": null,
   "metadata": {
    "colab": {
     "base_uri": "https://localhost:8080/",
     "height": 588
    },
    "id": "BVU8VUeD59pt",
    "outputId": "695abf2c-7b47-4f4b-b395-2e92cc8f3373"
   },
   "outputs": [
    {
     "name": "stdout",
     "output_type": "stream",
     "text": [
      "W: [[ 0.00913539 -0.00435121 -0.00341022]\n",
      " [-0.00085089 -0.00738677  0.00286817]]\n",
      "Scores:\n",
      " [[ 0.00000000e+00  0.00000000e+00  0.00000000e+00]\n",
      " [ 5.29348817e-04 -9.47163504e-04  2.98967917e-05]\n",
      " [ 1.39934131e-03 -1.81021826e-03 -1.48007155e-04]\n",
      " [ 2.78301209e-03 -2.17869606e-03 -7.59638792e-04]\n",
      " [ 4.06625516e-03 -1.35778810e-03 -1.70743917e-03]\n",
      " [ 4.67304541e-03 -1.36328596e-04 -2.42836872e-03]\n",
      " [ 3.87385864e-03  2.46273359e-03 -2.85617368e-03]\n",
      " [ 1.40145932e-03  5.35971483e-03 -2.49602483e-03]\n",
      " [-3.28015758e-03  7.61801695e-03 -7.57694566e-04]\n",
      " [-5.42628352e-03  8.41328741e-03  1.17731270e-04]\n",
      " [ 0.00000000e+00  0.00000000e+00  0.00000000e+00]\n",
      " [-1.01184168e-03  5.07282752e-04  3.69424041e-04]\n",
      " [-2.03078010e-03  6.53841491e-04  8.60677612e-04]\n",
      " [-2.71704425e-03 -1.07027493e-04  1.47290235e-03]\n",
      " [-2.38269242e-03 -1.85109747e-03  1.86683949e-03]\n",
      " [-6.65962293e-04 -4.00856831e-03  1.66453341e-03]\n",
      " [ 3.16728287e-03 -5.68399657e-03  1.84375465e-04]\n",
      " [ 5.23752169e-03 -6.18067808e-03 -7.48626201e-04]\n",
      " [ 7.00314935e-03 -6.31826554e-03 -1.63796693e-03]\n",
      " [ 9.11727049e-03 -4.49295530e-03 -3.35423673e-03]\n",
      " [ 0.00000000e+00  0.00000000e+00  0.00000000e+00]\n",
      " [ 7.75811919e-04  2.50821661e-04 -4.92662606e-04]\n",
      " [ 1.39744117e-03  6.99899488e-04 -9.68625345e-04]\n",
      " [-3.25715077e-04  2.70093322e-03 -7.11712797e-04]\n",
      " [-2.03948021e-03  3.79671624e-03 -1.63459060e-04]\n",
      " [-3.95131881e-03  4.29368870e-03  6.85621404e-04]\n",
      " [-6.00246151e-03  3.38086253e-03  2.06988413e-03]\n",
      " [-7.12302834e-03  3.19620546e-03  2.72333497e-03]\n",
      " [-6.39007765e-03 -1.74480408e-03  3.95276971e-03]\n",
      " [-6.01258053e-03 -3.47008426e-03  4.31772384e-03]]\n",
      "The score is of size: (30, 3)\n"
     ]
    }
   ],
   "source": [
    "#2 Initialization of parameters\n",
    "\"\"\"Softmax classifier has a linear score function and it uses cross-entropy loss.\n",
    "\"\"\"\n",
    "W=0.01*np.random.randn(D,K) #[2,3]\n",
    "b=np.zeros((1,K))           #[1,K]\n",
    "\n",
    "print(\"W:\",W)\n",
    "#print(\"b:\",b)\n",
    "scores=np.dot(X,W)+b        #[300,3]\n",
    "print(\"Scores:\\n\",scores)\n",
    "print(\"The score is of size:\",scores.shape)"
   ]
  },
  {
   "cell_type": "code",
   "execution_count": null,
   "metadata": {
    "colab": {
     "base_uri": "https://localhost:8080/",
     "height": 823
    },
    "id": "lVN-wLvQUXNc",
    "outputId": "01b170fd-5e3d-4cb0-9d36-b0f37b1d82e1"
   },
   "outputs": [
    {
     "name": "stdout",
     "output_type": "stream",
     "text": [
      "Probs:\n",
      " [[0.33333333 0.33333333 0.33333333]\n",
      " [0.33355289 0.33306076 0.33338634]\n",
      " [0.33386201 0.33279218 0.33334581]\n",
      " [0.33427887 0.33262439 0.33309674]\n",
      " [0.33457868 0.33276883 0.33265249]\n",
      " [0.33465792 0.33305229 0.33228979]\n",
      " [0.33423773 0.33376641 0.33199585]\n",
      " [0.33332487 0.33464687 0.33202827]\n",
      " [0.33184188 0.33547813 0.33267999]\n",
      " [0.33118119 0.33579645 0.33302236]\n",
      " [0.33333333 0.33333333 0.33333333]\n",
      " [0.33301115 0.33351741 0.33347144]\n",
      " [0.33271406 0.33360847 0.33367748]\n",
      " [0.33257814 0.33344731 0.33397455]\n",
      " [0.33280193 0.33297889 0.33421919]\n",
      " [0.33344491 0.33233219 0.3342229 ]\n",
      " [0.33464858 0.33169958 0.33365184]\n",
      " [0.33526912 0.33146273 0.33326815]\n",
      " [0.33577745 0.33133408 0.33288846]\n",
      " [0.33623754 0.33169227 0.33207019]\n",
      " [0.33333333 0.33333333 0.33333333]\n",
      " [0.33353262 0.33335757 0.33310981]\n",
      " [0.33367374 0.33344107 0.33288518]\n",
      " [0.33303967 0.33404919 0.33291114]\n",
      " [0.33247654 0.33442261 0.33310086]\n",
      " [0.33190318 0.33465104 0.33344577]\n",
      " [0.3313966  0.33452083 0.33408257]\n",
      " [0.33109648 0.33453083 0.33437268]\n",
      " [0.33166917 0.33321345 0.33511738]\n",
      " [0.33190288 0.33274781 0.33534931]]\n",
      "The probs is of size: (30, 3)\n",
      "Correct probs:\n",
      " [0.33333333 0.33355289 0.33386201 0.33427887 0.33457868 0.33465792\n",
      " 0.33423773 0.33332487 0.33184188 0.33118119 0.33333333 0.33351741\n",
      " 0.33360847 0.33344731 0.33297889 0.33233219 0.33169958 0.33146273\n",
      " 0.33133408 0.33169227 0.33333333 0.33310981 0.33288518 0.33291114\n",
      " 0.33310086 0.33344577 0.33408257 0.33437268 0.33511738 0.33534931]\n",
      "Correct log probs:\n",
      " [1.09861229 1.09795382 1.09702751 1.09577968 1.0948832  1.09464641\n",
      " 1.09590277 1.09863769 1.10309669 1.10508966 1.09861229 1.0980602\n",
      " 1.09778723 1.09827042 1.09967619 1.10162023 1.1035256  1.10423991\n",
      " 1.10462809 1.10354763 1.09861229 1.09928308 1.09995765 1.09987967\n",
      " 1.09930997 1.09827502 1.0963671  1.09549909 1.09327443 1.09258258]\n",
      "The size of correct probs is: (30,)\n",
      "Data_loss: 1.0988212796166819\n",
      "Reg_loss: 8.87664298858863e-08\n",
      "Total loss: 1.0988213683831118\n"
     ]
    }
   ],
   "source": [
    "#3 Computation of loss\n",
    "\"\"\"Quantification of unhappiness with the computed class scores. As we want the \n",
    "correct class to have higher scores hence, the loss should be low. In softmax, \n",
    "the score function is holding the unnormalized probabilities and we convert it to\n",
    "normalized probabilities(exponentiate) which is between 0 to 1. Now, log(0)=1=loss\n",
    "and log(1)=0=loss i.e higher the score lower the score.\n",
    "\"\"\"\n",
    "#Computation of data-loss\n",
    "num_example=X.shape[0] #Total_N=N*k=300\n",
    "exp_scores=np.exp(scores)\n",
    "exp_sum=np.sum(exp_scores,axis=1,keepdims=True) #[300,1]sum by row of the exponentaited \n",
    "#print(exp_sum.shape)      #scores with keepdims to make matrix 2-D\n",
    "probs=exp_scores/exp_sum  #[300,3]As both matrix are in correct shapes now we can divide\n",
    "print(\"Probs:\\n\",probs)              #The probs contains with normalized class probabilities for all data-points\n",
    "print(\"The probs is of size:\",probs.shape)\n",
    "\n",
    "\"\"\"As each row contains the class probabilities for every data-point, correct_logprob\n",
    "is a 1-D array with just the probabilities assigned to the correct class for each row(example).\n",
    "probs[range(num_example),y] takes the correct probability from each row. As y=0,1,2 \n",
    "represents [r,b,y], (0,0) to (100,0) element is the correct probabbility for y=0 and\n",
    "(100,1) to (200,1) for y=1 and (200,2) to (300,2) for y=2\n",
    "\"\"\"\n",
    "correct_probs=probs[range(num_example),y]\n",
    "print(\"Correct probs:\\n\",correct_probs)\n",
    "correct_logprobs= -np.log(correct_probs)\n",
    "print(\"Correct log probs:\\n\",correct_logprobs) #[300]\n",
    "print(\"The size of correct probs is:\",correct_logprobs.shape)\n",
    "\n",
    "data_loss=np.sum(correct_logprobs)/num_example\n",
    "print(\"Data_loss:\",data_loss)\n",
    "\n",
    "#Compuatation of regularization\n",
    "reg=1e-3\n",
    "reg_loss= 0.5*reg*np.sum(W*W) #reg=lamda this is regularizarion loss using L2 norm.                 \n",
    "                              #this discourages large weights through element-wise quadratic penalty\n",
    "print(\"Reg_loss:\",reg_loss)                 \n",
    "#Compute the total loss\n",
    "loss=data_loss + reg_loss\n",
    "print(\"Total loss:\",loss)\n",
    "  "
   ]
  },
  {
   "cell_type": "code",
   "execution_count": null,
   "metadata": {
    "colab": {
     "base_uri": "https://localhost:8080/",
     "height": 622
    },
    "id": "dUBq7D-6SF8k",
    "outputId": "9c9822a1-1c02-4da3-8938-188c94e4be04"
   },
   "outputs": [
    {
     "name": "stdout",
     "output_type": "stream",
     "text": [
      "dscores:\n",
      " [[-0.02222222  0.01111111  0.01111111]\n",
      " [-0.0222149   0.01110203  0.01111288]\n",
      " [-0.0222046   0.01109307  0.01111153]\n",
      " [-0.0221907   0.01108748  0.01110322]\n",
      " [-0.02218071  0.01109229  0.01108842]\n",
      " [-0.02217807  0.01110174  0.01107633]\n",
      " [-0.02219208  0.01112555  0.01106653]\n",
      " [-0.0222225   0.0111549   0.01106761]\n",
      " [-0.02227194  0.0111826   0.01108933]\n",
      " [-0.02229396  0.01119322  0.01110075]\n",
      " [ 0.01111111 -0.02222222  0.01111111]\n",
      " [ 0.01110037 -0.02221609  0.01111571]\n",
      " [ 0.01109047 -0.02221305  0.01112258]\n",
      " [ 0.01108594 -0.02221842  0.01113248]\n",
      " [ 0.0110934  -0.02223404  0.01114064]\n",
      " [ 0.01111483 -0.02225559  0.01114076]\n",
      " [ 0.01115495 -0.02227668  0.01112173]\n",
      " [ 0.01117564 -0.02228458  0.01110894]\n",
      " [ 0.01119258 -0.02228886  0.01109628]\n",
      " [ 0.01120792 -0.02227692  0.01106901]\n",
      " [ 0.01111111  0.01111111 -0.02222222]\n",
      " [ 0.01111775  0.01111192 -0.02222967]\n",
      " [ 0.01112246  0.0111147  -0.02223716]\n",
      " [ 0.01110132  0.01113497 -0.0222363 ]\n",
      " [ 0.01108255  0.01114742 -0.02222997]\n",
      " [ 0.01106344  0.01115503 -0.02221847]\n",
      " [ 0.01104655  0.01115069 -0.02219725]\n",
      " [ 0.01103655  0.01115103 -0.02218758]\n",
      " [ 0.01105564  0.01110712 -0.02216275]\n",
      " [ 0.01106343  0.01109159 -0.02215502]]\n",
      "dW:\n",
      " [[-0.03208325 -0.07060365  0.10268828]\n",
      " [ 0.09337925 -0.08754029 -0.00584433]]\n",
      "db:\n",
      " [[-4.36733430e-05  3.31217515e-05  1.05515915e-05]]\n"
     ]
    }
   ],
   "source": [
    "#4 Computing the gradient descent with backpropagation\n",
    "dscores= probs #df=p_k-1\n",
    "dscores[range(num_example),y] -=1\n",
    "dscores/=num_example\n",
    "print(\"dscores:\\n\",dscores) #shape of dscore:[300,3]\n",
    "\n",
    "dW=np.dot(X.T,dscores) #gradient of loss function wrt weights\n",
    "db=np.sum(dscores,axis=0,keepdims=True) #sum along the column and still 2-D\n",
    "dW+=reg*W #due to the regualrization loss\n",
    "\n",
    "print(\"dW:\\n\",dW)\n",
    "print(\"db:\\n\",db)\n"
   ]
  },
  {
   "cell_type": "code",
   "execution_count": null,
   "metadata": {
    "id": "eKLUZF4Bieza"
   },
   "outputs": [],
   "source": [
    "#5 Parameter update\n",
    "\"\"\"As every parameter has an influence on the loss function, we perform the \n",
    "parameter update in the negative gradient descent in order to decrease the loss.\n",
    "\"\"\"\n",
    "step_size=1e-0\n",
    "W += -step_size * dW\n",
    "b += -step_size * db\n"
   ]
  },
  {
   "cell_type": "code",
   "execution_count": null,
   "metadata": {
    "colab": {
     "base_uri": "https://localhost:8080/",
     "height": 67
    },
    "id": "nra-qaS7PlWb",
    "outputId": "3ec6c6d5-663c-4683-8c38-241c4e3d5b47"
   },
   "outputs": [
    {
     "name": "stdout",
     "output_type": "stream",
     "text": [
      "[0 0 0 0 0 0 0 1 1 1 0 1 2 2 2 2 0 0 0 0 0 0 0 1 1 1 1 1 2 2]\n",
      "[0 0 0 0 0 0 0 0 0 0 1 1 1 1 1 1 1 1 1 1 2 2 2 2 2 2 2 2 2 2]\n",
      "training accuracy: 0.33\n"
     ]
    }
   ],
   "source": [
    "#6 Evaluating the training set accuracy\n",
    "\"\"\"This training accuracy 28% is for performing the gradient descent once. When we\n",
    "iterate over many gradient descent we get higher accuracy like 49%-ish in colab file\n",
    "\"Putting all together for softmax classifier\".\n",
    "\"\"\"\n",
    "predicted_class= np.argmax(scores,axis=1) #[300]This gives the index of the highest score along the row for every data_point\n",
    "print(predicted_class)\n",
    "print(y)\n",
    "#if the predicted class index is equal to the y(label of every data-point) then we find the average.\n",
    "print ('training accuracy: %.2f' % (np.mean(predicted_class == y))) \n",
    "\n"
   ]
  },
  {
   "cell_type": "code",
   "execution_count": null,
   "metadata": {
    "colab": {
     "base_uri": "https://localhost:8080/",
     "height": 282
    },
    "id": "1Womd6DXQX-Z",
    "outputId": "9d47107f-bc15-4c73-fc2e-2a10f8a12b2c"
   },
   "outputs": [
    {
     "data": {
      "text/plain": [
       "(-1.7771598477534343, 1.802840152246569)"
      ]
     },
     "execution_count": 9,
     "metadata": {
      "tags": []
     },
     "output_type": "execute_result"
    },
    {
     "data": {
      "image/png": "[encoded data removed]",
      "text/plain": [
       "<Figure size 432x288 with 1 Axes>"
      ]
     },
     "metadata": {
      "needs_background": "light",
      "tags": []
     },
     "output_type": "display_data"
    }
   ],
   "source": [
    "# plot the resulting classifier\n",
    "h = 0.02\n",
    "x_min, x_max = X[:, 0].min() - 1, X[:, 0].max() + 1\n",
    "y_min, y_max = X[:, 1].min() - 1, X[:, 1].max() + 1\n",
    "xx, yy = np.meshgrid(np.arange(x_min, x_max, h),\n",
    "                     np.arange(y_min, y_max, h))\n",
    "Z = np.dot(np.c_[xx.ravel(), yy.ravel()], W) + b\n",
    "Z = np.argmax(Z, axis=1)\n",
    "Z = Z.reshape(xx.shape)\n",
    "fig = plt.figure()\n",
    "plt.contourf(xx, yy, Z, cmap=plt.cm.Spectral, alpha=0.8)\n",
    "plt.scatter(X[:, 0], X[:, 1], c=y, s=40, cmap=plt.cm.Spectral)\n",
    "plt.xlim(xx.min(), xx.max())\n",
    "plt.ylim(yy.min(), yy.max())\n",
    "#fig.savefig('spiral_linear.png')"
   ]
  },
  {
   "cell_type": "code",
   "execution_count": null,
   "metadata": {
    "id": "TrJYR_2fct83"
   },
   "outputs": [],
   "source": []
  }
 ],
 "metadata": {
  "colab": {
   "name": "Softmax linear classifer for spiral dataset.ipynb",
   "provenance": []
  },
  "hide_input": false,
  "kernelspec": {
   "display_name": "Python 3",
   "language": "python",
   "name": "python3"
  },
  "language_info": {
   "codemirror_mode": {
    "name": "ipython",
    "version": 3
   },
   "file_extension": ".py",
   "mimetype": "text/x-python",
   "name": "python",
   "nbconvert_exporter": "python",
   "pygments_lexer": "ipython3",
   "version": "3.8.10"
  },
  "toc": {
   "base_numbering": 1,
   "nav_menu": {},
   "number_sections": true,
   "sideBar": true,
   "skip_h1_title": false,
   "title_cell": "Table of Contents",
   "title_sidebar": "Contents",
   "toc_cell": false,
   "toc_position": {},
   "toc_section_display": true,
   "toc_window_display": false
  },
  "varInspector": {
   "cols": {
    "lenName": 16,
    "lenType": 16,
    "lenVar": 40
   },
   "kernels_config": {
    "python": {
     "delete_cmd_postfix": "",
     "delete_cmd_prefix": "del ",
     "library": "var_list.py",
     "varRefreshCmd": "print(var_dic_list())"
    },
    "r": {
     "delete_cmd_postfix": ") ",
     "delete_cmd_prefix": "rm(",
     "library": "var_list.r",
     "varRefreshCmd": "cat(var_dic_list()) "
    }
   },
   "types_to_exclude": [
    "module",
    "function",
    "builtin_function_or_method",
    "instance",
    "_Feature"
   ],
   "window_display": false
  }
 },
 "nbformat": 4,
 "nbformat_minor": 1
}
